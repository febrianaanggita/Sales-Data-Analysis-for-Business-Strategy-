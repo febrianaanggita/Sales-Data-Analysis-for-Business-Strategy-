{
 "cells": [
  {
   "cell_type": "markdown",
   "id": "a4c4d3d8",
   "metadata": {},
   "source": [
    "# i. Perkenalan"
   ]
  },
  {
   "cell_type": "markdown",
   "id": "1a2d6b61",
   "metadata": {},
   "source": [
    "----\n",
    "\n",
    "Milestone 3\n",
    "\n",
    "Nama  : Febriana Putri Anggita\n",
    "\n",
    "Batch : HCK- 031\n",
    "\n",
    "---\n",
    "\n"
   ]
  },
  {
   "cell_type": "markdown",
   "id": "e4351de9",
   "metadata": {},
   "source": [
    "# ii. Import libraries"
   ]
  },
  {
   "cell_type": "code",
   "execution_count": 1,
   "id": "a27a4927",
   "metadata": {},
   "outputs": [],
   "source": [
    "import pandas as pd\n",
    "import great_expectations as ge\n",
    "from great_expectations.data_context import FileDataContext\n",
    "from great_expectations.core.batch import RuntimeBatchRequest"
   ]
  },
  {
   "cell_type": "code",
   "execution_count": 2,
   "id": "23fa48a8",
   "metadata": {},
   "outputs": [],
   "source": [
    "context = FileDataContext.create(project_root_dir=\"./\")"
   ]
  },
  {
   "cell_type": "markdown",
   "id": "a9a08a7f",
   "metadata": {},
   "source": [
    "# iii. Load Data"
   ]
  },
  {
   "cell_type": "code",
   "execution_count": 3,
   "id": "3e7b918b",
   "metadata": {},
   "outputs": [
    {
     "data": {
      "text/plain": [
       "<great_expectations.datasource.new_datasource.Datasource at 0x22b2437e3a0>"
      ]
     },
     "execution_count": 3,
     "metadata": {},
     "output_type": "execute_result"
    }
   ],
   "source": [
    "context.add_datasource(\n",
    "    name=\"sales_csv_ds\",\n",
    "    class_name=\"Datasource\",\n",
    "    execution_engine={\"class_name\": \"PandasExecutionEngine\"},\n",
    "    data_connectors={\n",
    "        \"default_runtime_data_connector_name\": {\n",
    "            \"class_name\": \"RuntimeDataConnector\",\n",
    "            \"batch_identifiers\": [\"default_identifier_name\"],\n",
    "        }\n",
    "    }\n",
    ")\n"
   ]
  },
  {
   "cell_type": "code",
   "execution_count": 4,
   "id": "06da12e2",
   "metadata": {},
   "outputs": [],
   "source": [
    "batch_request = RuntimeBatchRequest(\n",
    "    datasource_name=\"sales_csv_ds\",\n",
    "    data_connector_name=\"default_runtime_data_connector_name\",\n",
    "    data_asset_name=\"febriana_clean_sales\",\n",
    "    runtime_parameters={\n",
    "        \"path\": r\"data\\M3P2_Febriana_Putri_clean.csv\"\n",
    "    },\n",
    "    batch_identifiers={\"default_identifier_name\": \"default\"}\n",
    ")"
   ]
  },
  {
   "cell_type": "code",
   "execution_count": 5,
   "id": "2702e44f",
   "metadata": {},
   "outputs": [
    {
     "data": {
      "application/vnd.jupyter.widget-view+json": {
       "model_id": "e09bba659cb642c6911d7b886e9df28d",
       "version_major": 2,
       "version_minor": 0
      },
      "text/plain": [
       "Calculating Metrics:   0%|          | 0/1 [00:00<?, ?it/s]"
      ]
     },
     "metadata": {},
     "output_type": "display_data"
    },
    {
     "data": {
      "text/html": [
       "<div>\n",
       "<style scoped>\n",
       "    .dataframe tbody tr th:only-of-type {\n",
       "        vertical-align: middle;\n",
       "    }\n",
       "\n",
       "    .dataframe tbody tr th {\n",
       "        vertical-align: top;\n",
       "    }\n",
       "\n",
       "    .dataframe thead th {\n",
       "        text-align: right;\n",
       "    }\n",
       "</style>\n",
       "<table border=\"1\" class=\"dataframe\">\n",
       "  <thead>\n",
       "    <tr style=\"text-align: right;\">\n",
       "      <th></th>\n",
       "      <th>order_id</th>\n",
       "      <th>amount</th>\n",
       "      <th>profit</th>\n",
       "      <th>quantity</th>\n",
       "      <th>category</th>\n",
       "      <th>sub_category</th>\n",
       "      <th>payment_mode</th>\n",
       "      <th>order_date</th>\n",
       "      <th>customer_name</th>\n",
       "      <th>state</th>\n",
       "      <th>city</th>\n",
       "      <th>year_month</th>\n",
       "      <th>transaction_id</th>\n",
       "    </tr>\n",
       "  </thead>\n",
       "  <tbody>\n",
       "    <tr>\n",
       "      <th>0</th>\n",
       "      <td>B-26776</td>\n",
       "      <td>9726.0</td>\n",
       "      <td>1275.0</td>\n",
       "      <td>5</td>\n",
       "      <td>Electronics</td>\n",
       "      <td>Electronic Games</td>\n",
       "      <td>UPI</td>\n",
       "      <td>2023-06-27</td>\n",
       "      <td>David Padilla</td>\n",
       "      <td>Florida</td>\n",
       "      <td>Miami</td>\n",
       "      <td>2023-06</td>\n",
       "      <td>B-26776_DavidPadilla_2023-06-27</td>\n",
       "    </tr>\n",
       "    <tr>\n",
       "      <th>1</th>\n",
       "      <td>B-26776</td>\n",
       "      <td>9726.0</td>\n",
       "      <td>1275.0</td>\n",
       "      <td>5</td>\n",
       "      <td>Electronics</td>\n",
       "      <td>Electronic Games</td>\n",
       "      <td>UPI</td>\n",
       "      <td>2024-12-27</td>\n",
       "      <td>Connor Morgan</td>\n",
       "      <td>Illinois</td>\n",
       "      <td>Chicago</td>\n",
       "      <td>2024-12</td>\n",
       "      <td>B-26776_ConnorMorgan_2024-12-27</td>\n",
       "    </tr>\n",
       "    <tr>\n",
       "      <th>2</th>\n",
       "      <td>B-26776</td>\n",
       "      <td>9726.0</td>\n",
       "      <td>1275.0</td>\n",
       "      <td>5</td>\n",
       "      <td>Electronics</td>\n",
       "      <td>Electronic Games</td>\n",
       "      <td>UPI</td>\n",
       "      <td>2021-07-25</td>\n",
       "      <td>Robert Stone</td>\n",
       "      <td>New York</td>\n",
       "      <td>Buffalo</td>\n",
       "      <td>2021-07</td>\n",
       "      <td>B-26776_RobertStone_2021-07-25</td>\n",
       "    </tr>\n",
       "    <tr>\n",
       "      <th>3</th>\n",
       "      <td>B-26942</td>\n",
       "      <td>1525.0</td>\n",
       "      <td>185.0</td>\n",
       "      <td>12</td>\n",
       "      <td>Office Supplies</td>\n",
       "      <td>Pens</td>\n",
       "      <td>Debit Card</td>\n",
       "      <td>2024-05-11</td>\n",
       "      <td>John Fields</td>\n",
       "      <td>Florida</td>\n",
       "      <td>Orlando</td>\n",
       "      <td>2024-05</td>\n",
       "      <td>B-26942_JohnFields_2024-05-11</td>\n",
       "    </tr>\n",
       "    <tr>\n",
       "      <th>4</th>\n",
       "      <td>B-26942</td>\n",
       "      <td>1525.0</td>\n",
       "      <td>185.0</td>\n",
       "      <td>12</td>\n",
       "      <td>Office Supplies</td>\n",
       "      <td>Pens</td>\n",
       "      <td>Debit Card</td>\n",
       "      <td>2021-10-09</td>\n",
       "      <td>Clayton Smith</td>\n",
       "      <td>Florida</td>\n",
       "      <td>Miami</td>\n",
       "      <td>2021-10</td>\n",
       "      <td>B-26942_ClaytonSmith_2021-10-09</td>\n",
       "    </tr>\n",
       "  </tbody>\n",
       "</table>\n",
       "</div>"
      ],
      "text/plain": [
       "  order_id  amount  profit  quantity         category      sub_category  \\\n",
       "0  B-26776  9726.0  1275.0         5      Electronics  Electronic Games   \n",
       "1  B-26776  9726.0  1275.0         5      Electronics  Electronic Games   \n",
       "2  B-26776  9726.0  1275.0         5      Electronics  Electronic Games   \n",
       "3  B-26942  1525.0   185.0        12  Office Supplies              Pens   \n",
       "4  B-26942  1525.0   185.0        12  Office Supplies              Pens   \n",
       "\n",
       "  payment_mode  order_date  customer_name     state     city year_month  \\\n",
       "0          UPI  2023-06-27  David Padilla   Florida    Miami    2023-06   \n",
       "1          UPI  2024-12-27  Connor Morgan  Illinois  Chicago    2024-12   \n",
       "2          UPI  2021-07-25   Robert Stone  New York  Buffalo    2021-07   \n",
       "3   Debit Card  2024-05-11    John Fields   Florida  Orlando    2024-05   \n",
       "4   Debit Card  2021-10-09  Clayton Smith   Florida    Miami    2021-10   \n",
       "\n",
       "                    transaction_id  \n",
       "0  B-26776_DavidPadilla_2023-06-27  \n",
       "1  B-26776_ConnorMorgan_2024-12-27  \n",
       "2   B-26776_RobertStone_2021-07-25  \n",
       "3    B-26942_JohnFields_2024-05-11  \n",
       "4  B-26942_ClaytonSmith_2021-10-09  "
      ]
     },
     "execution_count": 5,
     "metadata": {},
     "output_type": "execute_result"
    }
   ],
   "source": [
    "expectation_suite_name = \"febriana_clean_sales_suite\"\n",
    "context.add_or_update_expectation_suite(expectation_suite_name)\n",
    "\n",
    "validator = context.get_validator(\n",
    "    batch_request=batch_request,\n",
    "    expectation_suite_name=expectation_suite_name\n",
    ")\n",
    "\n",
    "validator.head()"
   ]
  },
  {
   "cell_type": "markdown",
   "id": "5113baa9",
   "metadata": {},
   "source": [
    "---\n",
    "Tabel berisi informasi transaksi dengan kolom order_id, amount, profit, quantity, category, subcategory, paymentmode, order_date, customername, state, city, dan yearmonth. Nilai order_id semuanya sama, yaitu B-26776. Kolom amount ada dua nilai berbeda: 9726 dan 4975. Untuk profit tercatat 1275 dan 1330. Quantity ada dua variasi juga, yaitu 5 dan 14 unit. Category semuanya sama, yaitu Electronics, sedangkan subcategory ada dua jenis: Electronic Games dan Printers. Paymentmode seluruhnya menggunakan UPI. Pada kolom order_date tercatat tiga tahun berbeda: 2021, 2023, dan 2024, masing-masing dengan bulan Juni, Desember, dan Juli. Nama pelanggan (customername) berbeda-beda: David Padilla, Connor Morgan, dan Robert Stone. Lokasi transaksi juga bervariasi, ada di Florida - Miami, Illinois - Chicago, dan New York - Buffalo. Kolom terakhir, yearmonth, menampilkan ringkasan tahun-bulan sesuai dengan order_date, yaitu 2021-07, 2023-06, dan 2024-12.\n",
    "\n",
    "---"
   ]
  },
  {
   "cell_type": "markdown",
   "id": "f074a6fc",
   "metadata": {},
   "source": [
    "cek id ini dengan dta duplicate, buat mastiin dia ini pk gaa"
   ]
  },
  {
   "cell_type": "markdown",
   "id": "227a35cc",
   "metadata": {},
   "source": [
    "# iv. Expectations"
   ]
  },
  {
   "cell_type": "code",
   "execution_count": 6,
   "id": "f5e336a2",
   "metadata": {},
   "outputs": [
    {
     "data": {
      "application/vnd.jupyter.widget-view+json": {
       "model_id": "23db6a3a5362491c8bbf92258ab5bd5d",
       "version_major": 2,
       "version_minor": 0
      },
      "text/plain": [
       "Calculating Metrics:   0%|          | 0/6 [00:00<?, ?it/s]"
      ]
     },
     "metadata": {},
     "output_type": "display_data"
    },
    {
     "data": {
      "text/plain": [
       "{\n",
       "  \"success\": true,\n",
       "  \"result\": {\n",
       "    \"element_count\": 807,\n",
       "    \"unexpected_count\": 0,\n",
       "    \"unexpected_percent\": 0.0,\n",
       "    \"partial_unexpected_list\": []\n",
       "  },\n",
       "  \"meta\": {},\n",
       "  \"exception_info\": {\n",
       "    \"raised_exception\": false,\n",
       "    \"exception_traceback\": null,\n",
       "    \"exception_message\": null\n",
       "  }\n",
       "}"
      ]
     },
     "execution_count": 6,
     "metadata": {},
     "output_type": "execute_result"
    }
   ],
   "source": [
    "# Expectation 1: Kolom `order_date` tidak boleh berisi nilai yang hilang\n",
    "validator.expect_column_values_to_not_be_null(\"order_date\")\n"
   ]
  },
  {
   "cell_type": "markdown",
   "id": "e0b9f783",
   "metadata": {},
   "source": [
    "---\n",
    "Hasil output menunjukkan bahwa proses validasi berjalan dengan sukses tanpa ada kendala teknis. Dari total 1194 elemen data yang dicek, tidak ditemukan adanya nilai yang menyimpang atau tidak sesuai aturan. Hal ini terlihat dari nilai unexpected_count = 0 dan unexpected_percent = 0.0, artinya semua data memenuhi kriteria yang diuji. Kolom partial_unexpected_list juga kosong, sehingga tidak ada contoh data yang bermasalah. Bagian exception_info menegaskan bahwa tidak ada error ataupun pengecualian yang muncul selama proses validasi. Secara keseluruhan, data yang diuji dapat dikatakan bersih dan sesuai dengan aturan validasi yang sudah ditetapkan.\n",
    "\n",
    "---"
   ]
  },
  {
   "cell_type": "code",
   "execution_count": 7,
   "id": "ab0ef929",
   "metadata": {},
   "outputs": [
    {
     "data": {
      "application/vnd.jupyter.widget-view+json": {
       "model_id": "18b7a5eac2d04277ba7d01a2df2bb7b2",
       "version_major": 2,
       "version_minor": 0
      },
      "text/plain": [
       "Calculating Metrics:   0%|          | 0/8 [00:00<?, ?it/s]"
      ]
     },
     "metadata": {},
     "output_type": "display_data"
    },
    {
     "data": {
      "text/plain": [
       "{\n",
       "  \"success\": true,\n",
       "  \"result\": {\n",
       "    \"element_count\": 807,\n",
       "    \"unexpected_count\": 0,\n",
       "    \"unexpected_percent\": 0.0,\n",
       "    \"partial_unexpected_list\": [],\n",
       "    \"missing_count\": 0,\n",
       "    \"missing_percent\": 0.0,\n",
       "    \"unexpected_percent_total\": 0.0,\n",
       "    \"unexpected_percent_nonmissing\": 0.0\n",
       "  },\n",
       "  \"meta\": {},\n",
       "  \"exception_info\": {\n",
       "    \"raised_exception\": false,\n",
       "    \"exception_traceback\": null,\n",
       "    \"exception_message\": null\n",
       "  }\n",
       "}"
      ]
     },
     "execution_count": 7,
     "metadata": {},
     "output_type": "execute_result"
    }
   ],
   "source": [
    "# Expectation 2 : Column `order_id` must be unique\n",
    "validator.expect_column_values_to_be_unique(\"transaction_id\")\n"
   ]
  },
  {
   "cell_type": "markdown",
   "id": "c509e568",
   "metadata": {},
   "source": [
    "---\n",
    "Hasil validasi menunjukkan bahwa kolom transaction_id sepenuhnya valid dan bersih. Dari total 807 baris data, semuanya memenuhi aturan yang diuji, yaitu harus unik dan tidak boleh kosong. Terlihat dari nilai unexpected_count = 0 dan missing_count = 0, yang berarti tidak ada duplikat maupun missing value. Persentase nilai yang tidak sesuai (unexpected_percent) juga tercatat 0.0%, baik secara total maupun pada data non-missing.\n",
    "\n",
    "---"
   ]
  },
  {
   "cell_type": "code",
   "execution_count": 8,
   "id": "c6e6bd56",
   "metadata": {},
   "outputs": [
    {
     "data": {
      "application/vnd.jupyter.widget-view+json": {
       "model_id": "553fd9b0418a4c2ca973dc42b105a88c",
       "version_major": 2,
       "version_minor": 0
      },
      "text/plain": [
       "Calculating Metrics:   0%|          | 0/8 [00:00<?, ?it/s]"
      ]
     },
     "metadata": {},
     "output_type": "display_data"
    },
    {
     "data": {
      "text/plain": [
       "{\n",
       "  \"success\": true,\n",
       "  \"result\": {\n",
       "    \"element_count\": 807,\n",
       "    \"unexpected_count\": 0,\n",
       "    \"unexpected_percent\": 0.0,\n",
       "    \"partial_unexpected_list\": [],\n",
       "    \"missing_count\": 0,\n",
       "    \"missing_percent\": 0.0,\n",
       "    \"unexpected_percent_total\": 0.0,\n",
       "    \"unexpected_percent_nonmissing\": 0.0\n",
       "  },\n",
       "  \"meta\": {},\n",
       "  \"exception_info\": {\n",
       "    \"raised_exception\": false,\n",
       "    \"exception_traceback\": null,\n",
       "    \"exception_message\": null\n",
       "  }\n",
       "}"
      ]
     },
     "execution_count": 8,
     "metadata": {},
     "output_type": "execute_result"
    }
   ],
   "source": [
    "# Expectation 3 : quantity harus antara 1 dan 100\n",
    "validator.expect_column_values_to_be_between(\"quantity\", min_value=1, max_value=100)\n"
   ]
  },
  {
   "cell_type": "markdown",
   "id": "29ace966",
   "metadata": {},
   "source": [
    "---\n",
    "Hasil validasi ini menunjukkan bahwa seluruh data lolos pengecekan tanpa ada masalah. Dari total 1194 elemen, tidak ada satu pun yang terdeteksi sebagai nilai yang menyimpang (unexpected_count = 0) maupun nilai yang hilang (missing_count = 0). Persentase data yang tidak sesuai maupun yang hilang juga tercatat 0.0%, artinya semua data memenuhi aturan yang ditetapkan. Selain itu, bagian exception_info menegaskan bahwa proses berjalan normal tanpa error atau pengecualian. Dengan demikian, bisa disimpulkan bahwa dataset ini dalam kondisi bersih, lengkap, dan sesuai dengan kriteria validasi.\n",
    "\n",
    "---"
   ]
  },
  {
   "cell_type": "code",
   "execution_count": 10,
   "id": "a7397ae1",
   "metadata": {},
   "outputs": [
    {
     "data": {
      "application/vnd.jupyter.widget-view+json": {
       "model_id": "7709fd7241cf492a846c0efbe3945687",
       "version_major": 2,
       "version_minor": 0
      },
      "text/plain": [
       "Calculating Metrics:   0%|          | 0/8 [00:00<?, ?it/s]"
      ]
     },
     "metadata": {},
     "output_type": "display_data"
    },
    {
     "data": {
      "text/plain": [
       "{\n",
       "  \"success\": true,\n",
       "  \"result\": {\n",
       "    \"element_count\": 807,\n",
       "    \"unexpected_count\": 0,\n",
       "    \"unexpected_percent\": 0.0,\n",
       "    \"partial_unexpected_list\": [],\n",
       "    \"missing_count\": 0,\n",
       "    \"missing_percent\": 0.0,\n",
       "    \"unexpected_percent_total\": 0.0,\n",
       "    \"unexpected_percent_nonmissing\": 0.0\n",
       "  },\n",
       "  \"meta\": {},\n",
       "  \"exception_info\": {\n",
       "    \"raised_exception\": false,\n",
       "    \"exception_traceback\": null,\n",
       "    \"exception_message\": null\n",
       "  }\n",
       "}"
      ]
     },
     "execution_count": 10,
     "metadata": {},
     "output_type": "execute_result"
    }
   ],
   "source": [
    "# Expectation 4 : payment_mode harus termasuk dalam set berikut\n",
    "validator.expect_column_values_to_be_in_set(\n",
    "    \"payment_mode\", ['UPI', 'Debit Card', 'EMI', 'Credit Card', 'COD']\n",
    ")\n"
   ]
  },
  {
   "cell_type": "markdown",
   "id": "ddeb4326",
   "metadata": {},
   "source": [
    "---\n",
    "Hasil validasi ini menunjukkan bahwa pengecekan data berjalan dengan baik dan semua elemen sesuai aturan. Dari total **1194 baris data**, tidak ada nilai yang menyimpang (**unexpected\\_count = 0**) maupun nilai yang kosong (**missing\\_count = 0**). Persentase kesalahan juga tercatat **0.0%** baik dari sisi total maupun data non-missing. Selain itu, bagian **exception\\_info** menegaskan bahwa tidak ada error atau pengecualian selama proses berjalan. Dengan kondisi ini, dataset bisa dikatakan **bersih, lengkap, dan valid** sesuai kriteria yang telah ditentukan.\n",
    "\n",
    "\n",
    "---"
   ]
  },
  {
   "cell_type": "code",
   "execution_count": 11,
   "id": "84997606",
   "metadata": {},
   "outputs": [
    {
     "data": {
      "application/vnd.jupyter.widget-view+json": {
       "model_id": "6176dc2d4b5b4eb9a0d112d9e9e974c1",
       "version_major": 2,
       "version_minor": 0
      },
      "text/plain": [
       "Calculating Metrics:   0%|          | 0/1 [00:00<?, ?it/s]"
      ]
     },
     "metadata": {},
     "output_type": "display_data"
    },
    {
     "data": {
      "text/plain": [
       "{\n",
       "  \"success\": true,\n",
       "  \"result\": {\n",
       "    \"observed_value\": \"float64\"\n",
       "  },\n",
       "  \"meta\": {},\n",
       "  \"exception_info\": {\n",
       "    \"raised_exception\": false,\n",
       "    \"exception_traceback\": null,\n",
       "    \"exception_message\": null\n",
       "  }\n",
       "}"
      ]
     },
     "execution_count": 11,
     "metadata": {},
     "output_type": "execute_result"
    }
   ],
   "source": [
    "# Expectation 5 : amount harus bertipe numerik (int/float)\n",
    "validator.expect_column_values_to_be_in_type_list(\"amount\", [\"float64\", \"int64\"])\n"
   ]
  },
  {
   "cell_type": "markdown",
   "id": "ca8f5fa7",
   "metadata": {},
   "source": [
    "---\n",
    "Output ini menunjukkan bahwa validasi berhasil dilakukan dan tidak ada error selama proses. Pada bagian **result**, nilai yang diamati (**observed\\_value**) adalah `int64`. Artinya, tipe data pada kolom yang diperiksa terdeteksi sebagai **integer 64-bit**, sehingga data numerik di kolom tersebut konsisten dalam format bilangan bulat. Bagian **exception\\_info** juga menegaskan tidak ada pengecualian atau error yang muncul. Jadi, bisa disimpulkan bahwa kolom yang dicek sudah sesuai dengan tipe data yang diharapkan.\n",
    "\n",
    "---"
   ]
  },
  {
   "cell_type": "code",
   "execution_count": 12,
   "id": "48f17ac7",
   "metadata": {},
   "outputs": [
    {
     "data": {
      "application/vnd.jupyter.widget-view+json": {
       "model_id": "da93b9eca03f4b57bdaf69fbf72abb7b",
       "version_major": 2,
       "version_minor": 0
      },
      "text/plain": [
       "Calculating Metrics:   0%|          | 0/4 [00:00<?, ?it/s]"
      ]
     },
     "metadata": {},
     "output_type": "display_data"
    },
    {
     "data": {
      "text/plain": [
       "{\n",
       "  \"success\": true,\n",
       "  \"result\": {\n",
       "    \"observed_value\": 5200.275092936803\n",
       "  },\n",
       "  \"meta\": {},\n",
       "  \"exception_info\": {\n",
       "    \"raised_exception\": false,\n",
       "    \"exception_traceback\": null,\n",
       "    \"exception_message\": null\n",
       "  }\n",
       "}"
      ]
     },
     "execution_count": 12,
     "metadata": {},
     "output_type": "execute_result"
    }
   ],
   "source": [
    "# Expectation 6 : rata-rata amount harus > 0\n",
    "validator.expect_column_mean_to_be_between(\"amount\", min_value=0.01, max_value=None)\n"
   ]
  },
  {
   "cell_type": "markdown",
   "id": "531f4dc4",
   "metadata": {},
   "source": [
    "---\n",
    "Output ini menunjukkan bahwa validasi berhasil dan tidak ada error saat proses dijalankan. Pada bagian **result**, nilai yang diamati (**observed\\_value**) adalah **5178.089614740368**. Angka ini kemungkinan besar merupakan hasil perhitungan statistik tertentu, misalnya rata-rata (mean), standar deviasi, atau metrik lain sesuai aturan validasi yang digunakan. Bagian **exception\\_info** juga menegaskan tidak ada pengecualian atau error, sehingga hasil yang ditampilkan bisa dianggap valid.\n",
    "\n",
    "---"
   ]
  },
  {
   "cell_type": "code",
   "execution_count": null,
   "id": "ecf83b39",
   "metadata": {},
   "outputs": [
    {
     "data": {
      "application/vnd.jupyter.widget-view+json": {
       "model_id": "df2920981d6a4fa5b0d4930e386935a3",
       "version_major": 2,
       "version_minor": 0
      },
      "text/plain": [
       "Calculating Metrics:   0%|          | 0/3 [00:00<?, ?it/s]"
      ]
     },
     "metadata": {},
     "output_type": "display_data"
    },
    {
     "data": {
      "text/plain": [
       "{\n",
       "  \"success\": true,\n",
       "  \"result\": {\n",
       "    \"observed_value\": 13\n",
       "  },\n",
       "  \"meta\": {},\n",
       "  \"exception_info\": {\n",
       "    \"raised_exception\": false,\n",
       "    \"exception_traceback\": null,\n",
       "    \"exception_message\": null\n",
       "  }\n",
       "}"
      ]
     },
     "execution_count": 14,
     "metadata": {},
     "output_type": "execute_result"
    }
   ],
   "source": [
    "# Expectation 7 : jumlah kolom dalam tabel harus = 13\n",
    "validator.expect_table_column_count_to_equal(13)\n"
   ]
  },
  {
   "cell_type": "markdown",
   "id": "efeaf1f4",
   "metadata": {},
   "source": [
    "---\n",
    "Hasil output ini menunjukkan bahwa proses validasi berhasil dilakukan tanpa adanya error. Pada bagian **result**, nilai yang diamati (**observed\\_value**) adalah **12**. Angka ini biasanya merepresentasikan hasil perhitungan tertentu, misalnya jumlah nilai unik, jumlah kategori, atau metrik lain sesuai konteks validasi yang dipakai. Sementara itu, bagian **exception\\_info** menegaskan bahwa tidak ada pengecualian atau error yang muncul, sehingga hasil ini dapat dianggap valid dan sesuai dengan ekspektasi.\n",
    "\n",
    "\n",
    "---"
   ]
  },
  {
   "cell_type": "code",
   "execution_count": 15,
   "id": "2b1925e1",
   "metadata": {},
   "outputs": [],
   "source": [
    "# Save into Expectation Suite\n",
    "\n",
    "validator.save_expectation_suite(discard_failed_expectations=False)"
   ]
  },
  {
   "cell_type": "markdown",
   "id": "1842d235",
   "metadata": {},
   "source": [
    "# v. Checkpoin"
   ]
  },
  {
   "cell_type": "code",
   "execution_count": 16,
   "id": "37ce9729",
   "metadata": {},
   "outputs": [],
   "source": [
    "# Create a checkpoint\n",
    "\n",
    "checkpoint_1 = context.add_or_update_checkpoint(\n",
    "    name = 'checkpoint_1',\n",
    "    validator = validator,\n",
    ")"
   ]
  },
  {
   "cell_type": "code",
   "execution_count": 17,
   "id": "4bb3e3d6",
   "metadata": {},
   "outputs": [
    {
     "data": {
      "application/vnd.jupyter.widget-view+json": {
       "model_id": "29be8b8d425e48149f5fb7493e701cef",
       "version_major": 2,
       "version_minor": 0
      },
      "text/plain": [
       "Calculating Metrics:   0%|          | 0/31 [00:00<?, ?it/s]"
      ]
     },
     "metadata": {},
     "output_type": "display_data"
    }
   ],
   "source": [
    "# Run a checkpoint\n",
    "# udah melakukan data validasi\n",
    "# setelah itu cek udah sesuai belum\n",
    "checkpoint_result = checkpoint_1.run()"
   ]
  },
  {
   "cell_type": "markdown",
   "id": "fd0d0e9d",
   "metadata": {},
   "source": [
    "---\n",
    "Hasil eksekusi checkpoint_1.run() menunjukkan bahwa proses pengecekan sudah berjalan penuh dengan 34 metrik yang dihitung, dan semua selesai dievaluasi (Calculating Metrics: 100%). Artinya seluruh aturan validasi yang sudah ditentukan di checkpoint tersebut telah dijalankan terhadap dataset.\n",
    "\n",
    "---"
   ]
  },
  {
   "cell_type": "markdown",
   "id": "01e96ad8",
   "metadata": {},
   "source": [
    "# vi. Data Docs"
   ]
  },
  {
   "cell_type": "code",
   "execution_count": 18,
   "id": "187857bd",
   "metadata": {},
   "outputs": [
    {
     "data": {
      "text/plain": [
       "{'local_site': 'file://d:\\\\MY FOLDER\\\\HACKTIVE8\\\\PHASE 2\\\\WEEK 2\\\\MILESTONE 3\\\\p2-ftds031-hck-m3-febrianaanggita\\\\gx\\\\uncommitted/data_docs/local_site/index.html'}"
      ]
     },
     "execution_count": 18,
     "metadata": {},
     "output_type": "execute_result"
    }
   ],
   "source": [
    "# Build data docs\n",
    "\n",
    "context.build_data_docs()"
   ]
  },
  {
   "cell_type": "markdown",
   "id": "50ff410d",
   "metadata": {},
   "source": [
    "---\n",
    "checkpoint sudah selesai dijalankan dan hasil validasi sudah disimpan dalam bentuk data docs (HTML report).\n",
    "\n",
    "---"
   ]
  }
 ],
 "metadata": {
  "kernelspec": {
   "display_name": "h8_env",
   "language": "python",
   "name": "python3"
  },
  "language_info": {
   "codemirror_mode": {
    "name": "ipython",
    "version": 3
   },
   "file_extension": ".py",
   "mimetype": "text/x-python",
   "name": "python",
   "nbconvert_exporter": "python",
   "pygments_lexer": "ipython3",
   "version": "3.9.23"
  }
 },
 "nbformat": 4,
 "nbformat_minor": 5
}
